{
 "cells": [
  {
   "cell_type": "code",
   "execution_count": 18,
   "id": "initial_id",
   "metadata": {
    "collapsed": true,
    "ExecuteTime": {
     "end_time": "2024-02-09T10:19:29.077997300Z",
     "start_time": "2024-02-09T10:19:07.979980400Z"
    }
   },
   "outputs": [
    {
     "name": "stdout",
     "output_type": "stream",
     "text": [
      "The total frame rate of the video is 1433.0 frames and the frame rate is 60.0 frames.\n",
      "[100%] Split  1432  screenshots successfully.\r"
     ]
    }
   ],
   "source": [
    "VIDEO_PATH = \"./resources/kemu3.mp4\"\n",
    "IMAGES__INITIAL_DIR = \"./images/initial/\"\n",
    "\n",
    "import os\n",
    "import cv2\n",
    "import shutil\n",
    "\n",
    "video = cv2.VideoCapture(VIDEO_PATH)\n",
    "\n",
    "fps = video.get(cv2.CAP_PROP_FPS)\n",
    "fps_count = video.get(cv2.CAP_PROP_FRAME_COUNT)\n",
    "\n",
    "print(\"The total frame rate of the video is \" + str(fps_count) + \" frames and the frame rate is \" + str(fps) + \" frames.\")\n",
    "\n",
    "# 判断images_initial目录是否存在\n",
    "isExist = os.path.exists(IMAGES__INITIAL_DIR)\n",
    "if isExist:\n",
    "    shutil.rmtree(IMAGES__INITIAL_DIR)\n",
    "os.mkdir(IMAGES__INITIAL_DIR, mode=0o777)\n",
    "\n",
    "index = 0\n",
    "if video.isOpened():\n",
    "    rval, frame = video.read()\n",
    "else:\n",
    "    rval = False\n",
    "    print(\"Error opening video stream or file.\")\n",
    "    \n",
    "while rval:\n",
    "    rval, frame = video.read()\n",
    "    if frame is None:\n",
    "        break\n",
    "    else:\n",
    "        cv2.imwrite(IMAGES__INITIAL_DIR + str(index) + \".png\", frame)\n",
    "    index += 1\n",
    "    print(\"[\"+ str(int(100 * index / (fps_count - 1))) +\"%] \" + \"Split \", str(index), \" screenshots successfully.\", end=\"\\r\")"
   ]
  },
  {
   "cell_type": "code",
   "outputs": [
    {
     "name": "stdout",
     "output_type": "stream",
     "text": [
      "[100%] Removed the background of 1432images successfully.\r"
     ]
    }
   ],
   "source": [
    "IMAGES__INITIAL_DIR = './images/initial/'\n",
    "IMAGES__REMBG_DIR = './images/rembg/'\n",
    "\n",
    "import os\n",
    "import sys\n",
    "import rembg\n",
    "\n",
    "# 判断images_initial目录是否存在\n",
    "isExist = os.path.exists(IMAGES__INITIAL_DIR)\n",
    "if not isExist:\n",
    "    print(\"Please take a screenshot of the video in different frames.\")\n",
    "    sys.exit(0)\n",
    "\n",
    "# 判断images_rembg目录是否存在\n",
    "isExist = os.path.exists(IMAGES__REMBG_DIR)\n",
    "if isExist:\n",
    "    shutil.rmtree(IMAGES__REMBG_DIR)\n",
    "os.mkdir(IMAGES__REMBG_DIR, mode=0o777)\n",
    "\n",
    "images = os.listdir(IMAGES__INITIAL_DIR)\n",
    "images.sort(key=lambda x: int(x.split(\".\")[0]))\n",
    "\n",
    "length = len(images)\n",
    "\n",
    "index = 0\n",
    "for image in images:\n",
    "    full_path = os.path.join(IMAGES__INITIAL_DIR, image)\n",
    "    save_path = os.path.join(IMAGES__REMBG_DIR, image)\n",
    "    with open(full_path, \"rb\") as i:\n",
    "        with open(save_path, \"wb\") as o:\n",
    "            ipt = i.read()\n",
    "            opt = rembg.remove(ipt)\n",
    "            o.write(opt)\n",
    "            index += 1\n",
    "            print(\"[\" + str(int(index * 100 / length)) + \"%] Removed the background of \" + str(index) + \"images successfully.\", end=\"\\r\")"
   ],
   "metadata": {
    "collapsed": false,
    "ExecuteTime": {
     "end_time": "2024-02-09T10:58:19.590510100Z",
     "start_time": "2024-02-09T10:31:38.340179200Z"
    }
   },
   "id": "9299513b9179bd4c",
   "execution_count": 21
  },
  {
   "cell_type": "code",
   "outputs": [
    {
     "name": "stdout",
     "output_type": "stream",
     "text": [
      "[100%] The alpha channels of 1432 images were successfully extracted.\r"
     ]
    }
   ],
   "source": [
    "IMAGES__REMBG_DIR = \"./images/rembg/\"\n",
    "IMAGES__TWO_DIR = \"./images/two/\"\n",
    "\n",
    "import os\n",
    "import sys\n",
    "import cv2\n",
    "import numpy as np\n",
    "\n",
    "# 判断images_rembg目录是否存在\n",
    "isExist = os.path.exists(IMAGES__REMBG_DIR)\n",
    "if not isExist:\n",
    "    print(\"Please remove the background firstly.\")\n",
    "    sys.exit(0)\n",
    "    \n",
    "# 判断images_rembg目录是否存在\n",
    "isExist = os.path.exists(IMAGES__TWO_DIR)\n",
    "if isExist:\n",
    "    shutil.rmtree(IMAGES__TWO_DIR)\n",
    "os.mkdir(IMAGES__TWO_DIR, mode=0o777)\n",
    "\n",
    "images = os.listdir(IMAGES__REMBG_DIR)\n",
    "images.sort(key=lambda x: int(x.split(\".\")[0]))\n",
    "\n",
    "length = len(images)\n",
    "\n",
    "index = 0\n",
    "for image in images:\n",
    "    full_path = os.path.join(IMAGES__REMBG_DIR, image)\n",
    "    save_path = os.path.join(IMAGES__TWO_DIR, image)\n",
    "    matrix = cv2.imread(full_path, cv2.IMREAD_UNCHANGED)\n",
    "    row, col, channel = matrix.shape\n",
    "    alpha = np.zeros((row, col), dtype=np.uint8)\n",
    "    for r in range(row):\n",
    "        for c in range(col):\n",
    "            alpha[r, c] = matrix[r, c, channel - 1]\n",
    "    index += 1\n",
    "    cv2.imwrite(IMAGES__TWO_DIR + str(index) + \".png\", alpha)\n",
    "    print(\"[\" + str(int(index * 100 / length)) + \"%] \" + \"The alpha channels of \" + str(index) + \" images were successfully extracted.\", end=\"\\r\")"
   ],
   "metadata": {
    "collapsed": false,
    "ExecuteTime": {
     "end_time": "2024-02-09T12:31:38.682896700Z",
     "start_time": "2024-02-09T12:28:43.888339500Z"
    }
   },
   "id": "a5f73f3d5588c955",
   "execution_count": 38
  },
  {
   "cell_type": "code",
   "outputs": [
    {
     "name": "stdout",
     "output_type": "stream",
     "text": [
      "[100%] The matrix of 1432 images was successfully extracted.\r"
     ]
    }
   ],
   "source": [
    "IMAGES__TWO_DIR = \"./images/two/\"\n",
    "NPY_PATH = \"./data.npy\"\n",
    "\n",
    "import os\n",
    "import cv2\n",
    "import sys\n",
    "import numpy as np\n",
    "\n",
    "# 判断images_two目录是否存在\n",
    "isExist = os.path.exists(IMAGES__TWO_DIR)\n",
    "if not isExist:\n",
    "    print(\"Please binarize the image firstly.\")\n",
    "    sys.exit(0)\n",
    "\n",
    "images = os.listdir(IMAGES__TWO_DIR)\n",
    "images.sort(key=lambda x: int(x.split(\".\")[0]))\n",
    "\n",
    "length = len(images)\n",
    "\n",
    "index = 0\n",
    "__list = []\n",
    "save_path = os.path.join(NPY_PATH)\n",
    "for image in images:\n",
    "    full_path = os.path.join(IMAGES__TWO_DIR, image)\n",
    "    matrix = cv2.imread(full_path, cv2.IMREAD_GRAYSCALE)\n",
    "    __list.append(matrix)\n",
    "    index += 1\n",
    "    print(\"[\" + str(int(index * 100 / length)) + \"%] The matrix of \" + str(index) + \" images was successfully extracted.\", end=\"\\r\")\n",
    "npy = np.array(__list)\n",
    "np.save(save_path, npy)"
   ],
   "metadata": {
    "collapsed": false,
    "ExecuteTime": {
     "end_time": "2024-02-09T15:12:31.661709800Z",
     "start_time": "2024-02-09T15:12:27.407378100Z"
    }
   },
   "id": "96a801477ab79637",
   "execution_count": 62
  },
  {
   "cell_type": "code",
   "outputs": [
    {
     "name": "stdout",
     "output_type": "stream",
     "text": [
      "[99%] The matrix of 1431 images was zipped successfully.\r"
     ]
    }
   ],
   "source": [
    "NPY_PATH = \"./data.npy\"\n",
    "SAVE_PATH = \"./data_zipped.npy\"\n",
    "\n",
    "import numpy as np\n",
    "\n",
    "data = np.load(NPY_PATH)\n",
    "total, row, col = data.shape\n",
    "\n",
    "zipped = []\n",
    "for i in range(total):\n",
    "    tmp = np.zeros((int(row / 4), int(col / 4)), dtype=np.uint8)\n",
    "    r = 0\n",
    "    while r < row and r + 3 < row:\n",
    "        c = 0\n",
    "        while c < col and c + 3 < col:\n",
    "            tmp[int(r / 4), int(c / 4)] = int(sum([\n",
    "                data[i, r, c + 0], \n",
    "                data[i, r, c + 1], \n",
    "                data[i, r, c + 2], \n",
    "                data[i, r, c + 3], \n",
    "                data[i, r + 1, c + 0], \n",
    "                data[i, r + 1, c + 1], \n",
    "                data[i, r + 1, c + 2], \n",
    "                data[i, r + 1, c + 3], \n",
    "                data[i, r + 2, c + 0], \n",
    "                data[i, r + 2, c + 1], \n",
    "                data[i, r + 2, c + 2], \n",
    "                data[i, r + 2, c + 3], \n",
    "                data[i, r + 3, c + 0], \n",
    "                data[i, r + 3, c + 1], \n",
    "                data[i, r + 3, c + 2], \n",
    "                data[i, r + 3, c + 3], \n",
    "            ]) / 16)\n",
    "            c += 4\n",
    "        r += 4\n",
    "    zipped.append(tmp)\n",
    "    print(\"[\" + str(int(i * 100 / total)) + \"%] The matrix of \" + str(i) + \" images was zipped successfully.\", end=\"\\r\")\n",
    "\n",
    "zipped = np.array(zipped)\n",
    "\n",
    "np.save(SAVE_PATH, zipped)"
   ],
   "metadata": {
    "collapsed": false,
    "ExecuteTime": {
     "end_time": "2024-02-10T12:42:23.031102100Z",
     "start_time": "2024-02-10T12:38:23.321126300Z"
    }
   },
   "id": "193a3cca58f706b4",
   "execution_count": 22
  },
  {
   "cell_type": "code",
   "outputs": [
    {
     "name": "stdout",
     "output_type": "stream",
     "text": [
      "[99%] The matrix of 1431 images was zipped successfully.\r"
     ]
    }
   ],
   "source": [
    "NPY_PATH = \"./data_zipped.npy\"\n",
    "SAVE_PATH = \"./data_zipped.npy\"\n",
    "\n",
    "import math\n",
    "import numpy as np\n",
    "\n",
    "data = np.load(NPY_PATH)\n",
    "total, row, col = data.shape\n",
    "\n",
    "zipped = []\n",
    "for i in range(total):\n",
    "    tmp = np.zeros((math.floor(row / 4), math.floor(col / 4)), dtype=np.uint8)\n",
    "    r = 0\n",
    "    while r < row and r + 3 < row:\n",
    "        c = 0\n",
    "        while c < col and c + 3 < col:\n",
    "            tmp[math.floor(r / 4), math.floor(c / 4)] = int(sum([\n",
    "                data[i, r, c + 0], \n",
    "                data[i, r, c + 1], \n",
    "                data[i, r, c + 2], \n",
    "                data[i, r, c + 3], \n",
    "                data[i, r + 1, c + 0], \n",
    "                data[i, r + 1, c + 1], \n",
    "                data[i, r + 1, c + 2], \n",
    "                data[i, r + 1, c + 3], \n",
    "                data[i, r + 2, c + 0], \n",
    "                data[i, r + 2, c + 1], \n",
    "                data[i, r + 2, c + 2], \n",
    "                data[i, r + 2, c + 3], \n",
    "                data[i, r + 3, c + 0], \n",
    "                data[i, r + 3, c + 1], \n",
    "                data[i, r + 3, c + 2], \n",
    "                data[i, r + 3, c + 3], \n",
    "            ]) / 16)\n",
    "            c += 4\n",
    "        r += 4\n",
    "    zipped.append(tmp)\n",
    "    print(\"[\" + str(int(i * 100 / total)) + \"%] The matrix of \" + str(i) + \" images was zipped successfully.\", end=\"\\r\")\n",
    "\n",
    "zipped = np.array(zipped)\n",
    "\n",
    "np.save(SAVE_PATH, zipped)"
   ],
   "metadata": {
    "collapsed": false,
    "ExecuteTime": {
     "end_time": "2024-02-10T11:21:02.168920100Z",
     "start_time": "2024-02-10T11:20:43.790004700Z"
    }
   },
   "id": "221debb3de74ec83",
   "execution_count": 18
  },
  {
   "cell_type": "code",
   "outputs": [
    {
     "name": "stdout",
     "output_type": "stream",
     "text": [
      "[99%] The matrix of 1431 images was zipped successfully.\r"
     ]
    }
   ],
   "source": [
    "NPY_PATH = \"./data_zipped.npy\"\n",
    "SAVE_PATH = \"./data_zipped.npy\"\n",
    "\n",
    "import math\n",
    "import numpy as np\n",
    "\n",
    "data = np.load(NPY_PATH)\n",
    "total, row, col = data.shape\n",
    "\n",
    "zipped = []\n",
    "for i in range(total):\n",
    "    tmp = np.zeros((math.floor(row / 4), math.floor(col / 4)), dtype=np.uint8)\n",
    "    r = 0\n",
    "    while r < row and r + 3 < row:\n",
    "        c = 0\n",
    "        while c < col and c + 3 < col:\n",
    "            tmp[math.floor(r / 4), math.floor(c / 4)] = int(sum([\n",
    "                data[i, r, c + 0], \n",
    "                data[i, r, c + 1], \n",
    "                data[i, r, c + 2], \n",
    "                data[i, r, c + 3], \n",
    "                data[i, r + 1, c + 0], \n",
    "                data[i, r + 1, c + 1], \n",
    "                data[i, r + 1, c + 2], \n",
    "                data[i, r + 1, c + 3], \n",
    "                data[i, r + 2, c + 0], \n",
    "                data[i, r + 2, c + 1], \n",
    "                data[i, r + 2, c + 2], \n",
    "                data[i, r + 2, c + 3], \n",
    "                data[i, r + 3, c + 0], \n",
    "                data[i, r + 3, c + 1], \n",
    "                data[i, r + 3, c + 2], \n",
    "                data[i, r + 3, c + 3], \n",
    "            ]) / 16)\n",
    "            c += 4\n",
    "        r += 4\n",
    "    zipped.append(tmp)\n",
    "    print(\"[\" + str(int(i * 100 / total)) + \"%] The matrix of \" + str(i) + \" images was zipped successfully.\", end=\"\\r\")\n",
    "\n",
    "zipped = np.array(zipped)\n",
    "\n",
    "np.save(SAVE_PATH, zipped)"
   ],
   "metadata": {
    "collapsed": false,
    "ExecuteTime": {
     "end_time": "2024-02-10T12:35:15.458876900Z",
     "start_time": "2024-02-10T12:35:14.416990900Z"
    }
   },
   "id": "53e2d8520d00aaa1",
   "execution_count": 20
  },
  {
   "cell_type": "code",
   "outputs": [
    {
     "name": "stdout",
     "output_type": "stream",
     "text": [
      "[99%] The matrix of 1431 images was zipped successfully.\r"
     ]
    }
   ],
   "source": [
    "NPY_PATH = \"./data_zipped.npy\"\n",
    "SAVE_PATH = \"./data_zipped.npy\"\n",
    "\n",
    "import math\n",
    "import numpy as np\n",
    "\n",
    "data = np.load(NPY_PATH)\n",
    "total, row, col = data.shape\n",
    "\n",
    "zipped = []\n",
    "for i in range(total):\n",
    "    tmp = np.zeros((math.floor(row / 4), math.floor(col / 4)), dtype=np.uint8)\n",
    "    r = 0\n",
    "    while r < row and r + 3 < row:\n",
    "        c = 0\n",
    "        while c < col and c + 3 < col:\n",
    "            tmp[math.floor(r / 4), math.floor(c / 4)] = int(sum([\n",
    "                data[i, r, c + 0], \n",
    "                data[i, r, c + 1], \n",
    "                data[i, r, c + 2], \n",
    "                data[i, r, c + 3], \n",
    "                data[i, r + 1, c + 0], \n",
    "                data[i, r + 1, c + 1], \n",
    "                data[i, r + 1, c + 2], \n",
    "                data[i, r + 1, c + 3], \n",
    "                data[i, r + 2, c + 0], \n",
    "                data[i, r + 2, c + 1], \n",
    "                data[i, r + 2, c + 2], \n",
    "                data[i, r + 2, c + 3], \n",
    "                data[i, r + 3, c + 0], \n",
    "                data[i, r + 3, c + 1], \n",
    "                data[i, r + 3, c + 2], \n",
    "                data[i, r + 3, c + 3], \n",
    "            ]) / 16)\n",
    "            c += 4\n",
    "        r += 4\n",
    "    zipped.append(tmp)\n",
    "    print(\"[\" + str(int(i * 100 / total)) + \"%] The matrix of \" + str(i) + \" images was zipped successfully.\", end=\"\\r\")\n",
    "\n",
    "zipped = np.array(zipped)\n",
    "\n",
    "np.save(SAVE_PATH, zipped)"
   ],
   "metadata": {
    "collapsed": false,
    "ExecuteTime": {
     "end_time": "2024-02-10T12:37:16.025146900Z",
     "start_time": "2024-02-10T12:37:15.960072600Z"
    }
   },
   "id": "c044635406d9c187",
   "execution_count": 21
  },
  {
   "cell_type": "code",
   "outputs": [],
   "source": [
    "NPY__ZIPPED_PATH = \"./data_zipped.npy\"\n",
    "\n",
    "import numpy as np\n",
    "from PIL import Image\n",
    "\n",
    "data = np.load(NPY__ZIPPED_PATH)\n",
    "\n",
    "image = Image.fromarray(data[1000])\n",
    "image.show()"
   ],
   "metadata": {
    "collapsed": false,
    "ExecuteTime": {
     "end_time": "2024-02-10T11:21:25.220628800Z",
     "start_time": "2024-02-10T11:21:21.734323600Z"
    }
   },
   "id": "c57b6064a4beaca4",
   "execution_count": 19
  },
  {
   "cell_type": "code",
   "outputs": [],
   "source": [],
   "metadata": {
    "collapsed": false
   },
   "id": "eb600ca1f825c0"
  }
 ],
 "metadata": {
  "kernelspec": {
   "display_name": "Python 3",
   "language": "python",
   "name": "python3"
  },
  "language_info": {
   "codemirror_mode": {
    "name": "ipython",
    "version": 2
   },
   "file_extension": ".py",
   "mimetype": "text/x-python",
   "name": "python",
   "nbconvert_exporter": "python",
   "pygments_lexer": "ipython2",
   "version": "2.7.6"
  }
 },
 "nbformat": 4,
 "nbformat_minor": 5
}
